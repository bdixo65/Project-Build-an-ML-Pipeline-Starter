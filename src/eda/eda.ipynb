{
 "cells": [
  {
   "cell_type": "code",
   "execution_count": 1,
   "id": "1f72a955",
   "metadata": {
    "scrolled": true,
    "tags": []
   },
   "outputs": [
    {
     "name": "stdout",
     "output_type": "stream",
     "text": [
      "Collecting wandb==0.16.0\n",
      "  Using cached wandb-0.16.0-py3-none-any.whl.metadata (9.8 kB)\n",
      "Collecting Click!=8.0.0,>=7.1 (from wandb==0.16.0)\n",
      "  Using cached click-8.1.8-py3-none-any.whl.metadata (2.3 kB)\n",
      "Collecting GitPython!=3.1.29,>=1.0.0 (from wandb==0.16.0)\n",
      "  Using cached GitPython-3.1.44-py3-none-any.whl.metadata (13 kB)\n",
      "Requirement already satisfied: requests<3,>=2.0.0 in /Users/brookedixon/Library/jupyterlab-desktop/jlab_server/lib/python3.12/site-packages (from wandb==0.16.0) (2.32.3)\n",
      "Requirement already satisfied: psutil>=5.0.0 in /Users/brookedixon/Library/jupyterlab-desktop/jlab_server/lib/python3.12/site-packages (from wandb==0.16.0) (6.0.0)\n",
      "Collecting sentry-sdk>=1.0.0 (from wandb==0.16.0)\n",
      "  Downloading sentry_sdk-2.27.0-py2.py3-none-any.whl.metadata (10 kB)\n",
      "Collecting docker-pycreds>=0.4.0 (from wandb==0.16.0)\n",
      "  Using cached docker_pycreds-0.4.0-py2.py3-none-any.whl.metadata (1.8 kB)\n",
      "Requirement already satisfied: PyYAML in /Users/brookedixon/Library/jupyterlab-desktop/jlab_server/lib/python3.12/site-packages (from wandb==0.16.0) (6.0.2)\n",
      "Collecting setproctitle (from wandb==0.16.0)\n",
      "  Downloading setproctitle-1.3.5-cp312-cp312-macosx_10_13_universal2.whl.metadata (10 kB)\n",
      "Requirement already satisfied: setuptools in /Users/brookedixon/Library/jupyterlab-desktop/jlab_server/lib/python3.12/site-packages (from wandb==0.16.0) (72.2.0)\n",
      "Collecting appdirs>=1.4.3 (from wandb==0.16.0)\n",
      "  Using cached appdirs-1.4.4-py2.py3-none-any.whl.metadata (9.0 kB)\n",
      "Collecting protobuf!=4.21.0,<5,>=3.19.0 (from wandb==0.16.0)\n",
      "  Downloading protobuf-4.25.7-cp37-abi3-macosx_10_9_universal2.whl.metadata (541 bytes)\n",
      "Requirement already satisfied: six>=1.4.0 in /Users/brookedixon/Library/jupyterlab-desktop/jlab_server/lib/python3.12/site-packages (from docker-pycreds>=0.4.0->wandb==0.16.0) (1.16.0)\n",
      "Collecting gitdb<5,>=4.0.1 (from GitPython!=3.1.29,>=1.0.0->wandb==0.16.0)\n",
      "  Using cached gitdb-4.0.12-py3-none-any.whl.metadata (1.2 kB)\n",
      "Requirement already satisfied: charset-normalizer<4,>=2 in /Users/brookedixon/Library/jupyterlab-desktop/jlab_server/lib/python3.12/site-packages (from requests<3,>=2.0.0->wandb==0.16.0) (3.3.2)\n",
      "Requirement already satisfied: idna<4,>=2.5 in /Users/brookedixon/Library/jupyterlab-desktop/jlab_server/lib/python3.12/site-packages (from requests<3,>=2.0.0->wandb==0.16.0) (3.8)\n",
      "Requirement already satisfied: urllib3<3,>=1.21.1 in /Users/brookedixon/Library/jupyterlab-desktop/jlab_server/lib/python3.12/site-packages (from requests<3,>=2.0.0->wandb==0.16.0) (2.2.2)\n",
      "Requirement already satisfied: certifi>=2017.4.17 in /Users/brookedixon/Library/jupyterlab-desktop/jlab_server/lib/python3.12/site-packages (from requests<3,>=2.0.0->wandb==0.16.0) (2024.7.4)\n",
      "Collecting smmap<6,>=3.0.1 (from gitdb<5,>=4.0.1->GitPython!=3.1.29,>=1.0.0->wandb==0.16.0)\n",
      "  Using cached smmap-5.0.2-py3-none-any.whl.metadata (4.3 kB)\n",
      "Using cached wandb-0.16.0-py3-none-any.whl (2.1 MB)\n",
      "Using cached appdirs-1.4.4-py2.py3-none-any.whl (9.6 kB)\n",
      "Using cached click-8.1.8-py3-none-any.whl (98 kB)\n",
      "Using cached docker_pycreds-0.4.0-py2.py3-none-any.whl (9.0 kB)\n",
      "Using cached GitPython-3.1.44-py3-none-any.whl (207 kB)\n",
      "Downloading protobuf-4.25.7-cp37-abi3-macosx_10_9_universal2.whl (394 kB)\n",
      "Downloading sentry_sdk-2.27.0-py2.py3-none-any.whl (340 kB)\n",
      "Downloading setproctitle-1.3.5-cp312-cp312-macosx_10_13_universal2.whl (17 kB)\n",
      "Using cached gitdb-4.0.12-py3-none-any.whl (62 kB)\n",
      "Using cached smmap-5.0.2-py3-none-any.whl (24 kB)\n",
      "Installing collected packages: appdirs, smmap, setproctitle, sentry-sdk, protobuf, docker-pycreds, Click, gitdb, GitPython, wandb\n",
      "Successfully installed Click-8.1.8 GitPython-3.1.44 appdirs-1.4.4 docker-pycreds-0.4.0 gitdb-4.0.12 protobuf-4.25.7 sentry-sdk-2.27.0 setproctitle-1.3.5 smmap-5.0.2 wandb-0.16.0\n",
      "Collecting ydata-profiling==4.12.1\n",
      "  Using cached ydata_profiling-4.12.1-py2.py3-none-any.whl.metadata (20 kB)\n",
      "Collecting scipy<1.14,>=1.4.1 (from ydata-profiling==4.12.1)\n",
      "  Downloading scipy-1.13.1-cp312-cp312-macosx_10_9_x86_64.whl.metadata (60 kB)\n",
      "Requirement already satisfied: pandas!=1.4.0,<3,>1.1 in /Users/brookedixon/Library/jupyterlab-desktop/jlab_server/lib/python3.12/site-packages (from ydata-profiling==4.12.1) (2.2.2)\n",
      "Requirement already satisfied: matplotlib<3.10,>=3.5 in /Users/brookedixon/Library/jupyterlab-desktop/jlab_server/lib/python3.12/site-packages (from ydata-profiling==4.12.1) (3.9.2)\n",
      "Collecting pydantic>=2 (from ydata-profiling==4.12.1)\n",
      "  Downloading pydantic-2.11.3-py3-none-any.whl.metadata (65 kB)\n",
      "Requirement already satisfied: PyYAML<6.1,>=5.0.0 in /Users/brookedixon/Library/jupyterlab-desktop/jlab_server/lib/python3.12/site-packages (from ydata-profiling==4.12.1) (6.0.2)\n",
      "Requirement already satisfied: jinja2<3.2,>=2.11.1 in /Users/brookedixon/Library/jupyterlab-desktop/jlab_server/lib/python3.12/site-packages (from ydata-profiling==4.12.1) (3.1.4)\n",
      "Collecting visions<0.7.7,>=0.7.5 (from visions[type_image_path]<0.7.7,>=0.7.5->ydata-profiling==4.12.1)\n",
      "  Using cached visions-0.7.6-py3-none-any.whl.metadata (11 kB)\n",
      "Requirement already satisfied: numpy<2.2,>=1.16.0 in /Users/brookedixon/Library/jupyterlab-desktop/jlab_server/lib/python3.12/site-packages (from ydata-profiling==4.12.1) (2.1.0)\n",
      "Collecting htmlmin==0.1.12 (from ydata-profiling==4.12.1)\n",
      "  Using cached htmlmin-0.1.12.tar.gz (19 kB)\n",
      "  Preparing metadata (setup.py) ... \u001b[?25ldone\n",
      "\u001b[?25hCollecting phik<0.13,>=0.11.1 (from ydata-profiling==4.12.1)\n",
      "  Downloading phik-0.12.4-cp312-cp312-macosx_10_13_x86_64.whl.metadata (5.6 kB)\n",
      "Requirement already satisfied: requests<3,>=2.24.0 in /Users/brookedixon/Library/jupyterlab-desktop/jlab_server/lib/python3.12/site-packages (from ydata-profiling==4.12.1) (2.32.3)\n",
      "Requirement already satisfied: tqdm<5,>=4.48.2 in /Users/brookedixon/Library/jupyterlab-desktop/jlab_server/lib/python3.12/site-packages (from ydata-profiling==4.12.1) (4.66.5)\n",
      "Requirement already satisfied: seaborn<0.14,>=0.10.1 in /Users/brookedixon/Library/jupyterlab-desktop/jlab_server/lib/python3.12/site-packages (from ydata-profiling==4.12.1) (0.13.2)\n",
      "Collecting multimethod<2,>=1.4 (from ydata-profiling==4.12.1)\n",
      "  Using cached multimethod-1.12-py3-none-any.whl.metadata (9.6 kB)\n",
      "Collecting statsmodels<1,>=0.13.2 (from ydata-profiling==4.12.1)\n",
      "  Downloading statsmodels-0.14.4-cp312-cp312-macosx_10_13_x86_64.whl.metadata (9.2 kB)\n",
      "Collecting typeguard<5,>=3 (from ydata-profiling==4.12.1)\n",
      "  Using cached typeguard-4.4.2-py3-none-any.whl.metadata (3.8 kB)\n",
      "Collecting imagehash==4.3.1 (from ydata-profiling==4.12.1)\n",
      "  Using cached ImageHash-4.3.1-py2.py3-none-any.whl.metadata (8.0 kB)\n",
      "Collecting wordcloud>=1.9.3 (from ydata-profiling==4.12.1)\n",
      "  Downloading wordcloud-1.9.4-cp312-cp312-macosx_10_13_x86_64.whl.metadata (3.4 kB)\n",
      "Collecting dacite>=1.8 (from ydata-profiling==4.12.1)\n",
      "  Using cached dacite-1.9.2-py3-none-any.whl.metadata (17 kB)\n",
      "Collecting numba<1,>=0.56.0 (from ydata-profiling==4.12.1)\n",
      "  Downloading numba-0.61.2-cp312-cp312-macosx_10_14_x86_64.whl.metadata (2.8 kB)\n",
      "Collecting PyWavelets (from imagehash==4.3.1->ydata-profiling==4.12.1)\n",
      "  Downloading pywavelets-1.8.0-cp312-cp312-macosx_10_13_x86_64.whl.metadata (9.0 kB)\n",
      "Requirement already satisfied: pillow in /Users/brookedixon/Library/jupyterlab-desktop/jlab_server/lib/python3.12/site-packages (from imagehash==4.3.1->ydata-profiling==4.12.1) (10.4.0)\n",
      "Requirement already satisfied: MarkupSafe>=2.0 in /Users/brookedixon/Library/jupyterlab-desktop/jlab_server/lib/python3.12/site-packages (from jinja2<3.2,>=2.11.1->ydata-profiling==4.12.1) (2.1.5)\n",
      "Requirement already satisfied: contourpy>=1.0.1 in /Users/brookedixon/Library/jupyterlab-desktop/jlab_server/lib/python3.12/site-packages (from matplotlib<3.10,>=3.5->ydata-profiling==4.12.1) (1.2.1)\n",
      "Requirement already satisfied: cycler>=0.10 in /Users/brookedixon/Library/jupyterlab-desktop/jlab_server/lib/python3.12/site-packages (from matplotlib<3.10,>=3.5->ydata-profiling==4.12.1) (0.12.1)\n",
      "Requirement already satisfied: fonttools>=4.22.0 in /Users/brookedixon/Library/jupyterlab-desktop/jlab_server/lib/python3.12/site-packages (from matplotlib<3.10,>=3.5->ydata-profiling==4.12.1) (4.53.1)\n",
      "Requirement already satisfied: kiwisolver>=1.3.1 in /Users/brookedixon/Library/jupyterlab-desktop/jlab_server/lib/python3.12/site-packages (from matplotlib<3.10,>=3.5->ydata-profiling==4.12.1) (1.4.5)\n",
      "Requirement already satisfied: packaging>=20.0 in /Users/brookedixon/Library/jupyterlab-desktop/jlab_server/lib/python3.12/site-packages (from matplotlib<3.10,>=3.5->ydata-profiling==4.12.1) (24.1)\n",
      "Requirement already satisfied: pyparsing>=2.3.1 in /Users/brookedixon/Library/jupyterlab-desktop/jlab_server/lib/python3.12/site-packages (from matplotlib<3.10,>=3.5->ydata-profiling==4.12.1) (3.1.4)\n",
      "Requirement already satisfied: python-dateutil>=2.7 in /Users/brookedixon/Library/jupyterlab-desktop/jlab_server/lib/python3.12/site-packages (from matplotlib<3.10,>=3.5->ydata-profiling==4.12.1) (2.9.0)\n",
      "Collecting llvmlite<0.45,>=0.44.0dev0 (from numba<1,>=0.56.0->ydata-profiling==4.12.1)\n",
      "  Downloading llvmlite-0.44.0-cp312-cp312-macosx_10_14_x86_64.whl.metadata (4.8 kB)\n",
      "Requirement already satisfied: pytz>=2020.1 in /Users/brookedixon/Library/jupyterlab-desktop/jlab_server/lib/python3.12/site-packages (from pandas!=1.4.0,<3,>1.1->ydata-profiling==4.12.1) (2024.1)\n",
      "Requirement already satisfied: tzdata>=2022.7 in /Users/brookedixon/Library/jupyterlab-desktop/jlab_server/lib/python3.12/site-packages (from pandas!=1.4.0,<3,>1.1->ydata-profiling==4.12.1) (2024.1)\n",
      "Requirement already satisfied: joblib>=0.14.1 in /Users/brookedixon/Library/jupyterlab-desktop/jlab_server/lib/python3.12/site-packages (from phik<0.13,>=0.11.1->ydata-profiling==4.12.1) (1.4.2)\n",
      "Collecting annotated-types>=0.6.0 (from pydantic>=2->ydata-profiling==4.12.1)\n",
      "  Using cached annotated_types-0.7.0-py3-none-any.whl.metadata (15 kB)\n",
      "Collecting pydantic-core==2.33.1 (from pydantic>=2->ydata-profiling==4.12.1)\n",
      "  Downloading pydantic_core-2.33.1-cp312-cp312-macosx_10_12_x86_64.whl.metadata (6.8 kB)\n",
      "Requirement already satisfied: typing-extensions>=4.12.2 in /Users/brookedixon/Library/jupyterlab-desktop/jlab_server/lib/python3.12/site-packages (from pydantic>=2->ydata-profiling==4.12.1) (4.12.2)\n",
      "Collecting typing-inspection>=0.4.0 (from pydantic>=2->ydata-profiling==4.12.1)\n",
      "  Using cached typing_inspection-0.4.0-py3-none-any.whl.metadata (2.6 kB)\n",
      "Requirement already satisfied: charset-normalizer<4,>=2 in /Users/brookedixon/Library/jupyterlab-desktop/jlab_server/lib/python3.12/site-packages (from requests<3,>=2.24.0->ydata-profiling==4.12.1) (3.3.2)\n",
      "Requirement already satisfied: idna<4,>=2.5 in /Users/brookedixon/Library/jupyterlab-desktop/jlab_server/lib/python3.12/site-packages (from requests<3,>=2.24.0->ydata-profiling==4.12.1) (3.8)\n",
      "Requirement already satisfied: urllib3<3,>=1.21.1 in /Users/brookedixon/Library/jupyterlab-desktop/jlab_server/lib/python3.12/site-packages (from requests<3,>=2.24.0->ydata-profiling==4.12.1) (2.2.2)\n",
      "Requirement already satisfied: certifi>=2017.4.17 in /Users/brookedixon/Library/jupyterlab-desktop/jlab_server/lib/python3.12/site-packages (from requests<3,>=2.24.0->ydata-profiling==4.12.1) (2024.7.4)\n",
      "Collecting patsy>=0.5.6 (from statsmodels<1,>=0.13.2->ydata-profiling==4.12.1)\n",
      "  Using cached patsy-1.0.1-py2.py3-none-any.whl.metadata (3.3 kB)\n",
      "Requirement already satisfied: attrs>=19.3.0 in /Users/brookedixon/Library/jupyterlab-desktop/jlab_server/lib/python3.12/site-packages (from visions<0.7.7,>=0.7.5->visions[type_image_path]<0.7.7,>=0.7.5->ydata-profiling==4.12.1) (24.2.0)\n",
      "Collecting networkx>=2.4 (from visions<0.7.7,>=0.7.5->visions[type_image_path]<0.7.7,>=0.7.5->ydata-profiling==4.12.1)\n",
      "  Using cached networkx-3.4.2-py3-none-any.whl.metadata (6.3 kB)\n",
      "Requirement already satisfied: six>=1.5 in /Users/brookedixon/Library/jupyterlab-desktop/jlab_server/lib/python3.12/site-packages (from python-dateutil>=2.7->matplotlib<3.10,>=3.5->ydata-profiling==4.12.1) (1.16.0)\n",
      "Using cached ydata_profiling-4.12.1-py2.py3-none-any.whl (390 kB)\n",
      "Using cached ImageHash-4.3.1-py2.py3-none-any.whl (296 kB)\n",
      "Using cached dacite-1.9.2-py3-none-any.whl (16 kB)\n",
      "Using cached multimethod-1.12-py3-none-any.whl (10 kB)\n",
      "Downloading numba-0.61.2-cp312-cp312-macosx_10_14_x86_64.whl (2.8 MB)\n",
      "\u001b[2K   \u001b[90m━━━━━━━━━━━━━━━━━━━━━━━━━━━━━━━━━━━━━━━━\u001b[0m \u001b[32m2.8/2.8 MB\u001b[0m \u001b[31m10.6 MB/s\u001b[0m eta \u001b[36m0:00:00\u001b[0ma \u001b[36m0:00:01\u001b[0m\n",
      "\u001b[?25hDownloading phik-0.12.4-cp312-cp312-macosx_10_13_x86_64.whl (659 kB)\n",
      "\u001b[2K   \u001b[90m━━━━━━━━━━━━━━━━━━━━━━━━━━━━━━━━━━━━━━━━\u001b[0m \u001b[32m659.0/659.0 kB\u001b[0m \u001b[31m9.2 MB/s\u001b[0m eta \u001b[36m0:00:00\u001b[0m\n",
      "\u001b[?25hDownloading pydantic-2.11.3-py3-none-any.whl (443 kB)\n",
      "Downloading pydantic_core-2.33.1-cp312-cp312-macosx_10_12_x86_64.whl (2.0 MB)\n",
      "\u001b[2K   \u001b[90m━━━━━━━━━━━━━━━━━━━━━━━━━━━━━━━━━━━━━━━━\u001b[0m \u001b[32m2.0/2.0 MB\u001b[0m \u001b[31m14.0 MB/s\u001b[0m eta \u001b[36m0:00:00\u001b[0m\n",
      "\u001b[?25hDownloading scipy-1.13.1-cp312-cp312-macosx_10_9_x86_64.whl (39.4 MB)\n",
      "\u001b[2K   \u001b[90m━━━━━━━━━━━━━━━━━━━━━━━━━━━━━━━━━━━━━━━━\u001b[0m \u001b[32m39.4/39.4 MB\u001b[0m \u001b[31m23.7 MB/s\u001b[0m eta \u001b[36m0:00:00\u001b[0m00:01\u001b[0m00:01\u001b[0m\n",
      "\u001b[?25hDownloading statsmodels-0.14.4-cp312-cp312-macosx_10_13_x86_64.whl (10.2 MB)\n",
      "\u001b[2K   \u001b[90m━━━━━━━━━━━━━━━━━━━━━━━━━━━━━━━━━━━━━━━━\u001b[0m \u001b[32m10.2/10.2 MB\u001b[0m \u001b[31m19.8 MB/s\u001b[0m eta \u001b[36m0:00:00\u001b[0m \u001b[36m0:00:01\u001b[0m\n",
      "\u001b[?25hUsing cached typeguard-4.4.2-py3-none-any.whl (35 kB)\n",
      "Using cached visions-0.7.6-py3-none-any.whl (104 kB)\n",
      "Downloading wordcloud-1.9.4-cp312-cp312-macosx_10_13_x86_64.whl (173 kB)\n",
      "Using cached annotated_types-0.7.0-py3-none-any.whl (13 kB)\n",
      "Downloading llvmlite-0.44.0-cp312-cp312-macosx_10_14_x86_64.whl (28.1 MB)\n",
      "\u001b[2K   \u001b[90m━━━━━━━━━━━━━━━━━━━━━━━━━━━━━━━━━━━━━━━━\u001b[0m \u001b[32m28.1/28.1 MB\u001b[0m \u001b[31m22.3 MB/s\u001b[0m eta \u001b[36m0:00:00\u001b[0m00:01\u001b[0m00:01\u001b[0m\n",
      "\u001b[?25hUsing cached networkx-3.4.2-py3-none-any.whl (1.7 MB)\n",
      "Using cached patsy-1.0.1-py2.py3-none-any.whl (232 kB)\n",
      "Using cached typing_inspection-0.4.0-py3-none-any.whl (14 kB)\n",
      "Downloading pywavelets-1.8.0-cp312-cp312-macosx_10_13_x86_64.whl (4.3 MB)\n",
      "\u001b[2K   \u001b[90m━━━━━━━━━━━━━━━━━━━━━━━━━━━━━━━━━━━━━━━━\u001b[0m \u001b[32m4.3/4.3 MB\u001b[0m \u001b[31m13.0 MB/s\u001b[0m eta \u001b[36m0:00:00\u001b[0m \u001b[36m0:00:01\u001b[0m\n",
      "\u001b[?25hBuilding wheels for collected packages: htmlmin\n",
      "  Building wheel for htmlmin (setup.py) ... \u001b[?25ldone\n",
      "\u001b[?25h  Created wheel for htmlmin: filename=htmlmin-0.1.12-py3-none-any.whl size=27082 sha256=ce4218e5d72cd03544e742ab1fa30a5f0ddb3889897817dfddc3cbd77d58384d\n",
      "  Stored in directory: /Users/brookedixon/Library/Caches/pip/wheels/5f/d4/d7/4189b07b5902ee9f3ce0dbb14909fbe8037c39d6c63ffd49c9\n",
      "Successfully built htmlmin\n",
      "Installing collected packages: htmlmin, typing-inspection, typeguard, scipy, PyWavelets, pydantic-core, patsy, networkx, multimethod, llvmlite, dacite, annotated-types, pydantic, numba, imagehash, wordcloud, visions, statsmodels, phik, ydata-profiling\n",
      "  Attempting uninstall: scipy\n",
      "    Found existing installation: scipy 1.14.1\n",
      "    Uninstalling scipy-1.14.1:\n",
      "      Successfully uninstalled scipy-1.14.1\n",
      "Successfully installed PyWavelets-1.8.0 annotated-types-0.7.0 dacite-1.9.2 htmlmin-0.1.12 imagehash-4.3.1 llvmlite-0.44.0 multimethod-1.12 networkx-3.4.2 numba-0.61.2 patsy-1.0.1 phik-0.12.4 pydantic-2.11.3 pydantic-core-2.33.1 scipy-1.13.1 statsmodels-0.14.4 typeguard-4.4.2 typing-inspection-0.4.0 visions-0.7.6 wordcloud-1.9.4 ydata-profiling-4.12.1\n",
      "Collecting pandas==2.1.3\n",
      "  Downloading pandas-2.1.3-cp312-cp312-macosx_10_9_x86_64.whl.metadata (18 kB)\n",
      "Collecting numpy<2,>=1.26.0 (from pandas==2.1.3)\n",
      "  Downloading numpy-1.26.4-cp312-cp312-macosx_10_9_x86_64.whl.metadata (61 kB)\n",
      "Requirement already satisfied: python-dateutil>=2.8.2 in /Users/brookedixon/Library/jupyterlab-desktop/jlab_server/lib/python3.12/site-packages (from pandas==2.1.3) (2.9.0)\n",
      "Requirement already satisfied: pytz>=2020.1 in /Users/brookedixon/Library/jupyterlab-desktop/jlab_server/lib/python3.12/site-packages (from pandas==2.1.3) (2024.1)\n",
      "Requirement already satisfied: tzdata>=2022.1 in /Users/brookedixon/Library/jupyterlab-desktop/jlab_server/lib/python3.12/site-packages (from pandas==2.1.3) (2024.1)\n",
      "Requirement already satisfied: six>=1.5 in /Users/brookedixon/Library/jupyterlab-desktop/jlab_server/lib/python3.12/site-packages (from python-dateutil>=2.8.2->pandas==2.1.3) (1.16.0)\n",
      "Downloading pandas-2.1.3-cp312-cp312-macosx_10_9_x86_64.whl (11.4 MB)\n",
      "\u001b[2K   \u001b[90m━━━━━━━━━━━━━━━━━━━━━━━━━━━━━━━━━━━━━━━━\u001b[0m \u001b[32m11.4/11.4 MB\u001b[0m \u001b[31m15.7 MB/s\u001b[0m eta \u001b[36m0:00:00\u001b[0m \u001b[36m0:00:01\u001b[0m\n",
      "\u001b[?25hDownloading numpy-1.26.4-cp312-cp312-macosx_10_9_x86_64.whl (20.3 MB)\n",
      "\u001b[2K   \u001b[90m━━━━━━━━━━━━━━━━━━━━━━━━━━━━━━━━━━━━━━━━\u001b[0m \u001b[32m20.3/20.3 MB\u001b[0m \u001b[31m27.8 MB/s\u001b[0m eta \u001b[36m0:00:00\u001b[0ma \u001b[36m0:00:01\u001b[0m\n",
      "\u001b[?25hInstalling collected packages: numpy, pandas\n",
      "  Attempting uninstall: numpy\n",
      "    Found existing installation: numpy 2.1.0\n",
      "    Uninstalling numpy-2.1.0:\n",
      "      Successfully uninstalled numpy-2.1.0\n",
      "  Attempting uninstall: pandas\n",
      "    Found existing installation: pandas 2.2.2\n",
      "    Uninstalling pandas-2.2.2:\n",
      "      Successfully uninstalled pandas-2.2.2\n",
      "Successfully installed numpy-1.26.4 pandas-2.1.3\n"
     ]
    }
   ],
   "source": [
    "!pip install wandb==0.16.0\n",
    "!pip install ydata-profiling==4.12.1\n",
    "!pip install pandas==2.1.3"
   ]
  },
  {
   "cell_type": "markdown",
   "id": "54c4f98a",
   "metadata": {},
   "source": [
    "1. Fetch the artifact we just created (sample.csv) from W&B and read it with pandas:"
   ]
  },
  {
   "cell_type": "code",
   "execution_count": 2,
   "id": "eed98c34",
   "metadata": {},
   "outputs": [
    {
     "name": "stderr",
     "output_type": "stream",
     "text": [
      "\u001b[34m\u001b[1mwandb\u001b[0m: Currently logged in as: \u001b[33mbdixo65\u001b[0m (\u001b[33mbdixo65-wgu\u001b[0m). Use \u001b[1m`wandb login --relogin`\u001b[0m to force relogin\n"
     ]
    },
    {
     "data": {
      "text/html": [
       "wandb version 0.19.10 is available!  To upgrade, please run:\n",
       " $ pip install wandb --upgrade"
      ],
      "text/plain": [
       "<IPython.core.display.HTML object>"
      ]
     },
     "metadata": {},
     "output_type": "display_data"
    },
    {
     "data": {
      "text/html": [
       "Tracking run with wandb version 0.16.0"
      ],
      "text/plain": [
       "<IPython.core.display.HTML object>"
      ]
     },
     "metadata": {},
     "output_type": "display_data"
    },
    {
     "data": {
      "text/html": [
       "Run data is saved locally in <code>/Users/brookedixon/Downloads/Project-Build-an-ML-Pipeline-Starter/src/eda/wandb/run-20250427_161022-6l1w7xob</code>"
      ],
      "text/plain": [
       "<IPython.core.display.HTML object>"
      ]
     },
     "metadata": {},
     "output_type": "display_data"
    },
    {
     "data": {
      "text/html": [
       "Syncing run <strong><a href='https://wandb.ai/bdixo65-wgu/nyc_airbnb/runs/6l1w7xob' target=\"_blank\">smooth-morning-4</a></strong> to <a href='https://wandb.ai/bdixo65-wgu/nyc_airbnb' target=\"_blank\">Weights & Biases</a> (<a href='https://wandb.me/run' target=\"_blank\">docs</a>)<br/>"
      ],
      "text/plain": [
       "<IPython.core.display.HTML object>"
      ]
     },
     "metadata": {},
     "output_type": "display_data"
    },
    {
     "data": {
      "text/html": [
       " View project at <a href='https://wandb.ai/bdixo65-wgu/nyc_airbnb' target=\"_blank\">https://wandb.ai/bdixo65-wgu/nyc_airbnb</a>"
      ],
      "text/plain": [
       "<IPython.core.display.HTML object>"
      ]
     },
     "metadata": {},
     "output_type": "display_data"
    },
    {
     "data": {
      "text/html": [
       " View run at <a href='https://wandb.ai/bdixo65-wgu/nyc_airbnb/runs/6l1w7xob' target=\"_blank\">https://wandb.ai/bdixo65-wgu/nyc_airbnb/runs/6l1w7xob</a>"
      ],
      "text/plain": [
       "<IPython.core.display.HTML object>"
      ]
     },
     "metadata": {},
     "output_type": "display_data"
    }
   ],
   "source": [
    "import wandb\n",
    "import pandas as pd\n",
    "# Note that we use save_code=True in the call to wandb.init so the notebook is uploaded and versioned by W&B\n",
    "run = wandb.init(project=\"nyc_airbnb\", group=\"eda\", save_code=True)\n",
    "local_path = wandb.use_artifact(\"sample.csv:latest\").file()\n",
    "df = pd.read_csv(local_path)"
   ]
  },
  {
   "cell_type": "markdown",
   "id": "472b8c0d",
   "metadata": {},
   "source": [
    "2. Explore the data in df"
   ]
  },
  {
   "cell_type": "code",
   "execution_count": 3,
   "id": "e7902159",
   "metadata": {},
   "outputs": [
    {
     "name": "stdout",
     "output_type": "stream",
     "text": [
      "<class 'pandas.core.frame.DataFrame'>\n",
      "RangeIndex: 20000 entries, 0 to 19999\n",
      "Data columns (total 16 columns):\n",
      " #   Column                          Non-Null Count  Dtype  \n",
      "---  ------                          --------------  -----  \n",
      " 0   id                              20000 non-null  int64  \n",
      " 1   name                            19993 non-null  object \n",
      " 2   host_id                         20000 non-null  int64  \n",
      " 3   host_name                       19992 non-null  object \n",
      " 4   neighbourhood_group             20000 non-null  object \n",
      " 5   neighbourhood                   20000 non-null  object \n",
      " 6   latitude                        20000 non-null  float64\n",
      " 7   longitude                       20000 non-null  float64\n",
      " 8   room_type                       20000 non-null  object \n",
      " 9   price                           20000 non-null  int64  \n",
      " 10  minimum_nights                  20000 non-null  int64  \n",
      " 11  number_of_reviews               20000 non-null  int64  \n",
      " 12  last_review                     15877 non-null  object \n",
      " 13  reviews_per_month               15877 non-null  float64\n",
      " 14  calculated_host_listings_count  20000 non-null  int64  \n",
      " 15  availability_365                20000 non-null  int64  \n",
      "dtypes: float64(3), int64(7), object(6)\n",
      "memory usage: 2.4+ MB\n"
     ]
    }
   ],
   "source": [
    "df.info()"
   ]
  },
  {
   "cell_type": "code",
   "execution_count": 4,
   "id": "ef6f1457",
   "metadata": {},
   "outputs": [
    {
     "data": {
      "text/html": [
       "<div>\n",
       "<style scoped>\n",
       "    .dataframe tbody tr th:only-of-type {\n",
       "        vertical-align: middle;\n",
       "    }\n",
       "\n",
       "    .dataframe tbody tr th {\n",
       "        vertical-align: top;\n",
       "    }\n",
       "\n",
       "    .dataframe thead th {\n",
       "        text-align: right;\n",
       "    }\n",
       "</style>\n",
       "<table border=\"1\" class=\"dataframe\">\n",
       "  <thead>\n",
       "    <tr style=\"text-align: right;\">\n",
       "      <th></th>\n",
       "      <th>id</th>\n",
       "      <th>host_id</th>\n",
       "      <th>latitude</th>\n",
       "      <th>longitude</th>\n",
       "      <th>price</th>\n",
       "      <th>minimum_nights</th>\n",
       "      <th>number_of_reviews</th>\n",
       "      <th>reviews_per_month</th>\n",
       "      <th>calculated_host_listings_count</th>\n",
       "      <th>availability_365</th>\n",
       "    </tr>\n",
       "  </thead>\n",
       "  <tbody>\n",
       "    <tr>\n",
       "      <th>count</th>\n",
       "      <td>2.000000e+04</td>\n",
       "      <td>2.000000e+04</td>\n",
       "      <td>20000.000000</td>\n",
       "      <td>20000.000000</td>\n",
       "      <td>20000.000000</td>\n",
       "      <td>20000.000000</td>\n",
       "      <td>20000.000000</td>\n",
       "      <td>15877.000000</td>\n",
       "      <td>20000.000000</td>\n",
       "      <td>20000.000000</td>\n",
       "    </tr>\n",
       "    <tr>\n",
       "      <th>mean</th>\n",
       "      <td>1.892380e+07</td>\n",
       "      <td>6.746034e+07</td>\n",
       "      <td>40.728455</td>\n",
       "      <td>-73.952125</td>\n",
       "      <td>153.269050</td>\n",
       "      <td>6.992100</td>\n",
       "      <td>23.274100</td>\n",
       "      <td>1.377446</td>\n",
       "      <td>6.955450</td>\n",
       "      <td>112.901200</td>\n",
       "    </tr>\n",
       "    <tr>\n",
       "      <th>std</th>\n",
       "      <td>1.101223e+07</td>\n",
       "      <td>7.857936e+07</td>\n",
       "      <td>0.054755</td>\n",
       "      <td>0.046559</td>\n",
       "      <td>243.325609</td>\n",
       "      <td>21.645449</td>\n",
       "      <td>44.927793</td>\n",
       "      <td>1.683006</td>\n",
       "      <td>32.433831</td>\n",
       "      <td>131.762226</td>\n",
       "    </tr>\n",
       "    <tr>\n",
       "      <th>min</th>\n",
       "      <td>2.539000e+03</td>\n",
       "      <td>2.571000e+03</td>\n",
       "      <td>40.508730</td>\n",
       "      <td>-74.239140</td>\n",
       "      <td>0.000000</td>\n",
       "      <td>1.000000</td>\n",
       "      <td>0.000000</td>\n",
       "      <td>0.010000</td>\n",
       "      <td>1.000000</td>\n",
       "      <td>0.000000</td>\n",
       "    </tr>\n",
       "    <tr>\n",
       "      <th>25%</th>\n",
       "      <td>9.393540e+06</td>\n",
       "      <td>7.853718e+06</td>\n",
       "      <td>40.689420</td>\n",
       "      <td>-73.983030</td>\n",
       "      <td>69.000000</td>\n",
       "      <td>1.000000</td>\n",
       "      <td>1.000000</td>\n",
       "      <td>0.190000</td>\n",
       "      <td>1.000000</td>\n",
       "      <td>0.000000</td>\n",
       "    </tr>\n",
       "    <tr>\n",
       "      <th>50%</th>\n",
       "      <td>1.952117e+07</td>\n",
       "      <td>3.111431e+07</td>\n",
       "      <td>40.722730</td>\n",
       "      <td>-73.955640</td>\n",
       "      <td>105.000000</td>\n",
       "      <td>2.000000</td>\n",
       "      <td>5.000000</td>\n",
       "      <td>0.720000</td>\n",
       "      <td>1.000000</td>\n",
       "      <td>44.000000</td>\n",
       "    </tr>\n",
       "    <tr>\n",
       "      <th>75%</th>\n",
       "      <td>2.912936e+07</td>\n",
       "      <td>1.068426e+08</td>\n",
       "      <td>40.762990</td>\n",
       "      <td>-73.936380</td>\n",
       "      <td>175.000000</td>\n",
       "      <td>5.000000</td>\n",
       "      <td>23.000000</td>\n",
       "      <td>2.010000</td>\n",
       "      <td>2.000000</td>\n",
       "      <td>229.000000</td>\n",
       "    </tr>\n",
       "    <tr>\n",
       "      <th>max</th>\n",
       "      <td>3.648561e+07</td>\n",
       "      <td>2.742733e+08</td>\n",
       "      <td>40.913060</td>\n",
       "      <td>-73.717950</td>\n",
       "      <td>10000.000000</td>\n",
       "      <td>1250.000000</td>\n",
       "      <td>607.000000</td>\n",
       "      <td>27.950000</td>\n",
       "      <td>327.000000</td>\n",
       "      <td>365.000000</td>\n",
       "    </tr>\n",
       "  </tbody>\n",
       "</table>\n",
       "</div>"
      ],
      "text/plain": [
       "                 id       host_id      latitude     longitude         price  \\\n",
       "count  2.000000e+04  2.000000e+04  20000.000000  20000.000000  20000.000000   \n",
       "mean   1.892380e+07  6.746034e+07     40.728455    -73.952125    153.269050   \n",
       "std    1.101223e+07  7.857936e+07      0.054755      0.046559    243.325609   \n",
       "min    2.539000e+03  2.571000e+03     40.508730    -74.239140      0.000000   \n",
       "25%    9.393540e+06  7.853718e+06     40.689420    -73.983030     69.000000   \n",
       "50%    1.952117e+07  3.111431e+07     40.722730    -73.955640    105.000000   \n",
       "75%    2.912936e+07  1.068426e+08     40.762990    -73.936380    175.000000   \n",
       "max    3.648561e+07  2.742733e+08     40.913060    -73.717950  10000.000000   \n",
       "\n",
       "       minimum_nights  number_of_reviews  reviews_per_month  \\\n",
       "count    20000.000000       20000.000000       15877.000000   \n",
       "mean         6.992100          23.274100           1.377446   \n",
       "std         21.645449          44.927793           1.683006   \n",
       "min          1.000000           0.000000           0.010000   \n",
       "25%          1.000000           1.000000           0.190000   \n",
       "50%          2.000000           5.000000           0.720000   \n",
       "75%          5.000000          23.000000           2.010000   \n",
       "max       1250.000000         607.000000          27.950000   \n",
       "\n",
       "       calculated_host_listings_count  availability_365  \n",
       "count                    20000.000000      20000.000000  \n",
       "mean                         6.955450        112.901200  \n",
       "std                         32.433831        131.762226  \n",
       "min                          1.000000          0.000000  \n",
       "25%                          1.000000          0.000000  \n",
       "50%                          1.000000         44.000000  \n",
       "75%                          2.000000        229.000000  \n",
       "max                        327.000000        365.000000  "
      ]
     },
     "execution_count": 4,
     "metadata": {},
     "output_type": "execute_result"
    }
   ],
   "source": [
    "df.describe()"
   ]
  },
  {
   "cell_type": "code",
   "execution_count": 5,
   "id": "13548f59",
   "metadata": {},
   "outputs": [
    {
     "data": {
      "text/html": [
       "<div>\n",
       "<style scoped>\n",
       "    .dataframe tbody tr th:only-of-type {\n",
       "        vertical-align: middle;\n",
       "    }\n",
       "\n",
       "    .dataframe tbody tr th {\n",
       "        vertical-align: top;\n",
       "    }\n",
       "\n",
       "    .dataframe thead th {\n",
       "        text-align: right;\n",
       "    }\n",
       "</style>\n",
       "<table border=\"1\" class=\"dataframe\">\n",
       "  <thead>\n",
       "    <tr style=\"text-align: right;\">\n",
       "      <th></th>\n",
       "      <th>id</th>\n",
       "      <th>name</th>\n",
       "      <th>host_id</th>\n",
       "      <th>host_name</th>\n",
       "      <th>neighbourhood_group</th>\n",
       "      <th>neighbourhood</th>\n",
       "      <th>latitude</th>\n",
       "      <th>longitude</th>\n",
       "      <th>room_type</th>\n",
       "      <th>price</th>\n",
       "      <th>minimum_nights</th>\n",
       "      <th>number_of_reviews</th>\n",
       "      <th>last_review</th>\n",
       "      <th>reviews_per_month</th>\n",
       "      <th>calculated_host_listings_count</th>\n",
       "      <th>availability_365</th>\n",
       "    </tr>\n",
       "  </thead>\n",
       "  <tbody>\n",
       "    <tr>\n",
       "      <th>0</th>\n",
       "      <td>9138664</td>\n",
       "      <td>Private Lg Room 15 min to Manhattan</td>\n",
       "      <td>47594947</td>\n",
       "      <td>Iris</td>\n",
       "      <td>Queens</td>\n",
       "      <td>Sunnyside</td>\n",
       "      <td>40.74271</td>\n",
       "      <td>-73.92493</td>\n",
       "      <td>Private room</td>\n",
       "      <td>74</td>\n",
       "      <td>2</td>\n",
       "      <td>6</td>\n",
       "      <td>2019-05-26</td>\n",
       "      <td>0.13</td>\n",
       "      <td>1</td>\n",
       "      <td>5</td>\n",
       "    </tr>\n",
       "    <tr>\n",
       "      <th>1</th>\n",
       "      <td>31444015</td>\n",
       "      <td>TIME SQUARE CHARMING ONE BED IN HELL'S KITCHEN...</td>\n",
       "      <td>8523790</td>\n",
       "      <td>Johlex</td>\n",
       "      <td>Manhattan</td>\n",
       "      <td>Hell's Kitchen</td>\n",
       "      <td>40.76682</td>\n",
       "      <td>-73.98878</td>\n",
       "      <td>Entire home/apt</td>\n",
       "      <td>170</td>\n",
       "      <td>3</td>\n",
       "      <td>0</td>\n",
       "      <td>NaN</td>\n",
       "      <td>NaN</td>\n",
       "      <td>1</td>\n",
       "      <td>188</td>\n",
       "    </tr>\n",
       "    <tr>\n",
       "      <th>2</th>\n",
       "      <td>8741020</td>\n",
       "      <td>Voted #1 Location Quintessential 1BR W Village...</td>\n",
       "      <td>45854238</td>\n",
       "      <td>John</td>\n",
       "      <td>Manhattan</td>\n",
       "      <td>West Village</td>\n",
       "      <td>40.73631</td>\n",
       "      <td>-74.00611</td>\n",
       "      <td>Entire home/apt</td>\n",
       "      <td>245</td>\n",
       "      <td>3</td>\n",
       "      <td>51</td>\n",
       "      <td>2018-09-19</td>\n",
       "      <td>1.12</td>\n",
       "      <td>1</td>\n",
       "      <td>0</td>\n",
       "    </tr>\n",
       "    <tr>\n",
       "      <th>3</th>\n",
       "      <td>34602077</td>\n",
       "      <td>Spacious 1 bedroom apartment 15min from Manhattan</td>\n",
       "      <td>261055465</td>\n",
       "      <td>Regan</td>\n",
       "      <td>Queens</td>\n",
       "      <td>Astoria</td>\n",
       "      <td>40.76424</td>\n",
       "      <td>-73.92351</td>\n",
       "      <td>Entire home/apt</td>\n",
       "      <td>125</td>\n",
       "      <td>3</td>\n",
       "      <td>1</td>\n",
       "      <td>2019-05-24</td>\n",
       "      <td>0.65</td>\n",
       "      <td>1</td>\n",
       "      <td>13</td>\n",
       "    </tr>\n",
       "    <tr>\n",
       "      <th>4</th>\n",
       "      <td>23203149</td>\n",
       "      <td>Big beautiful bedroom in huge Bushwick apartment</td>\n",
       "      <td>143460</td>\n",
       "      <td>Megan</td>\n",
       "      <td>Brooklyn</td>\n",
       "      <td>Bushwick</td>\n",
       "      <td>40.69839</td>\n",
       "      <td>-73.92044</td>\n",
       "      <td>Private room</td>\n",
       "      <td>65</td>\n",
       "      <td>2</td>\n",
       "      <td>8</td>\n",
       "      <td>2019-06-23</td>\n",
       "      <td>0.52</td>\n",
       "      <td>2</td>\n",
       "      <td>8</td>\n",
       "    </tr>\n",
       "  </tbody>\n",
       "</table>\n",
       "</div>"
      ],
      "text/plain": [
       "         id                                               name    host_id  \\\n",
       "0   9138664                Private Lg Room 15 min to Manhattan   47594947   \n",
       "1  31444015  TIME SQUARE CHARMING ONE BED IN HELL'S KITCHEN...    8523790   \n",
       "2   8741020  Voted #1 Location Quintessential 1BR W Village...   45854238   \n",
       "3  34602077  Spacious 1 bedroom apartment 15min from Manhattan  261055465   \n",
       "4  23203149   Big beautiful bedroom in huge Bushwick apartment     143460   \n",
       "\n",
       "  host_name neighbourhood_group   neighbourhood  latitude  longitude  \\\n",
       "0      Iris              Queens       Sunnyside  40.74271  -73.92493   \n",
       "1    Johlex           Manhattan  Hell's Kitchen  40.76682  -73.98878   \n",
       "2      John           Manhattan    West Village  40.73631  -74.00611   \n",
       "3     Regan              Queens         Astoria  40.76424  -73.92351   \n",
       "4     Megan            Brooklyn        Bushwick  40.69839  -73.92044   \n",
       "\n",
       "         room_type  price  minimum_nights  number_of_reviews last_review  \\\n",
       "0     Private room     74               2                  6  2019-05-26   \n",
       "1  Entire home/apt    170               3                  0         NaN   \n",
       "2  Entire home/apt    245               3                 51  2018-09-19   \n",
       "3  Entire home/apt    125               3                  1  2019-05-24   \n",
       "4     Private room     65               2                  8  2019-06-23   \n",
       "\n",
       "   reviews_per_month  calculated_host_listings_count  availability_365  \n",
       "0               0.13                               1                 5  \n",
       "1                NaN                               1               188  \n",
       "2               1.12                               1                 0  \n",
       "3               0.65                               1                13  \n",
       "4               0.52                               2                 8  "
      ]
     },
     "execution_count": 5,
     "metadata": {},
     "output_type": "execute_result"
    }
   ],
   "source": [
    "df.head()"
   ]
  },
  {
   "cell_type": "markdown",
   "id": "ecfee692",
   "metadata": {},
   "source": [
    "3. What do you notice in the data? Look around and see what you can find.\n",
    "\n",
    "> For example, there are missing values in a few columns and the column `last_review` is a date but it is in string format. Look also at the `price` column, and note the outliers. There are some zeros and some very high prices. After talking to your stakeholders, you decide to consider from a minimum of `$10` to a maximum of `$350` per night.\n",
    "\n",
    "After reviewing the data, the following fields have missing data: name, host_name, last_review, and reviews_per_month. The field price has a minimium of $0, which likely means the volume is unknown or missing. Last_review is being stored as an object.\n"
   ]
  },
  {
   "cell_type": "markdown",
   "id": "b4bb415f",
   "metadata": {},
   "source": [
    "4. Fix some of the little problems we have found in the data with the following code:"
   ]
  },
  {
   "cell_type": "code",
   "execution_count": 6,
   "id": "4d685317",
   "metadata": {},
   "outputs": [],
   "source": [
    "# Drop outliers\n",
    "min_price = 10\n",
    "max_price = 350\n",
    "idx = df['price'].between(min_price, max_price)\n",
    "df = df[idx].copy()\n",
    "# Convert last_review to datetime\n",
    "df['last_review'] = pd.to_datetime(df['last_review'])"
   ]
  },
  {
   "cell_type": "markdown",
   "id": "17990df4",
   "metadata": {},
   "source": [
    "Note how we did not impute missing values. We will do that in the inference pipeline, so we will be able to handle missing values also in production."
   ]
  },
  {
   "cell_type": "markdown",
   "id": "09287f29",
   "metadata": {},
   "source": [
    "5. Check with df.info() that all obvious problems have been solved"
   ]
  },
  {
   "cell_type": "code",
   "execution_count": 7,
   "id": "b83b4970",
   "metadata": {},
   "outputs": [
    {
     "name": "stdout",
     "output_type": "stream",
     "text": [
      "<class 'pandas.core.frame.DataFrame'>\n",
      "Index: 19001 entries, 0 to 19999\n",
      "Data columns (total 16 columns):\n",
      " #   Column                          Non-Null Count  Dtype         \n",
      "---  ------                          --------------  -----         \n",
      " 0   id                              19001 non-null  int64         \n",
      " 1   name                            18994 non-null  object        \n",
      " 2   host_id                         19001 non-null  int64         \n",
      " 3   host_name                       18993 non-null  object        \n",
      " 4   neighbourhood_group             19001 non-null  object        \n",
      " 5   neighbourhood                   19001 non-null  object        \n",
      " 6   latitude                        19001 non-null  float64       \n",
      " 7   longitude                       19001 non-null  float64       \n",
      " 8   room_type                       19001 non-null  object        \n",
      " 9   price                           19001 non-null  int64         \n",
      " 10  minimum_nights                  19001 non-null  int64         \n",
      " 11  number_of_reviews               19001 non-null  int64         \n",
      " 12  last_review                     15243 non-null  datetime64[ns]\n",
      " 13  reviews_per_month               15243 non-null  float64       \n",
      " 14  calculated_host_listings_count  19001 non-null  int64         \n",
      " 15  availability_365                19001 non-null  int64         \n",
      "dtypes: datetime64[ns](1), float64(3), int64(7), object(5)\n",
      "memory usage: 2.5+ MB\n"
     ]
    }
   ],
   "source": [
    "df.info()"
   ]
  },
  {
   "cell_type": "markdown",
   "id": "d727e697",
   "metadata": {},
   "source": [
    "6. Terminate the run by running `run.finish()`"
   ]
  },
  {
   "cell_type": "code",
   "execution_count": 8,
   "id": "48b38586",
   "metadata": {},
   "outputs": [
    {
     "data": {
      "application/vnd.jupyter.widget-view+json": {
       "model_id": "",
       "version_major": 2,
       "version_minor": 0
      },
      "text/plain": [
       "VBox(children=(Label(value='0.134 MB of 0.134 MB uploaded (0.041 MB deduped)\\r'), FloatProgress(value=1.0, max…"
      ]
     },
     "metadata": {},
     "output_type": "display_data"
    },
    {
     "data": {
      "text/html": [
       "W&B sync reduced upload amount by 22.5%             "
      ],
      "text/plain": [
       "<IPython.core.display.HTML object>"
      ]
     },
     "metadata": {},
     "output_type": "display_data"
    },
    {
     "data": {
      "text/html": [
       " View run <strong style=\"color:#cdcd00\">smooth-morning-4</strong> at: <a href='https://wandb.ai/bdixo65-wgu/nyc_airbnb/runs/6l1w7xob' target=\"_blank\">https://wandb.ai/bdixo65-wgu/nyc_airbnb/runs/6l1w7xob</a><br/> View job at <a href='https://wandb.ai/bdixo65-wgu/nyc_airbnb/jobs/QXJ0aWZhY3RDb2xsZWN0aW9uOjYyMzg2Njc5MA==/version_details/v0' target=\"_blank\">https://wandb.ai/bdixo65-wgu/nyc_airbnb/jobs/QXJ0aWZhY3RDb2xsZWN0aW9uOjYyMzg2Njc5MA==/version_details/v0</a><br/>Synced 7 W&B file(s), 0 media file(s), 7 artifact file(s) and 1 other file(s)"
      ],
      "text/plain": [
       "<IPython.core.display.HTML object>"
      ]
     },
     "metadata": {},
     "output_type": "display_data"
    },
    {
     "data": {
      "text/html": [
       "Find logs at: <code>./wandb/run-20250427_161022-6l1w7xob/logs</code>"
      ],
      "text/plain": [
       "<IPython.core.display.HTML object>"
      ]
     },
     "metadata": {},
     "output_type": "display_data"
    }
   ],
   "source": [
    "run.finish()"
   ]
  },
  {
   "cell_type": "markdown",
   "id": "13f82b21",
   "metadata": {},
   "source": [
    "7. Save the notebook."
   ]
  }
 ],
 "metadata": {
  "kernelspec": {
   "display_name": "Python 3 (ipykernel)",
   "language": "python",
   "name": "python3"
  },
  "language_info": {
   "codemirror_mode": {
    "name": "ipython",
    "version": 3
   },
   "file_extension": ".py",
   "mimetype": "text/x-python",
   "name": "python",
   "nbconvert_exporter": "python",
   "pygments_lexer": "ipython3",
   "version": "3.12.5"
  }
 },
 "nbformat": 4,
 "nbformat_minor": 5
}
